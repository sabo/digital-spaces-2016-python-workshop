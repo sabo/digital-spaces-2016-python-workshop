{
 "cells": [
  {
   "cell_type": "markdown",
   "metadata": {},
   "source": [
    "Introducing yourself to Python with Pokemon: The Text Adventure\n",
    "==================\n",
    "(Or, learning a programming language in 2016 using a '90s game, '80s style.)\n",
    "-----------\n",
    "\n",
    "Given the varied levels of experience that I'm imagining folks have, this example was designed to be helpful to people at a variety of experience and comfort levels.\n",
    "\n",
    "1. If you're completely new to programming, just the contents of this notebook should give you plenty to chew on.\n",
    "2. If you're somewhat familiar with the basics of Python, but want to dig a little deeper, check out the game.py file. This is where most of the game logic is kept, broken down into _functions_ that perform one task. Taken together, they comprise the game.\n",
    "3. If the words \"object-oriented programming\" look vaguely familiar, or you already know another programming language, take a peek at the pyokemans.py file. It contains the classes that undergird the game, and documents some useful tricks and potential pitfalls of working with classes in Python.\n",
    "4. If you are starting to feel like you made a huge mistake, no worries. Just play the game and occasionally nod knowingly as I'm talking. I don't mind."
   ]
  },
  {
   "cell_type": "markdown",
   "metadata": {},
   "source": [
    "Pokemon: A brief overview for people over the age of 28\n",
    "---------------\n",
    "Pokemon is a video game first released in 1996. It's fun. You catch little critters and make them fight until they pass out.\n",
    "\n",
    "Each pokemon has a type, and each pokemon knows some moves, which also have a type. Some moves are more effective against certain types of pokemon, and some are less. In this version, we limit ourselves to 6 types of pokemon and 7 types of move (the extra move type is \"Normal\", which affects each type of pokemon the same).\n",
    "\n",
    "![type relationships](typegraph.png)\n",
    "\n",
    "In the above graph, an arrow from type A to type B means that a _move_ of type A is very effective against a _pokemon_ of type B, and conversely, a _move_ of type B is ineffective against a _pokemon_ of type A.\n",
    "\n",
    "For example, water attacks are very effective against fire pokemon. Fire attacks are not very effective against water pokemon, but they are effective against grass pokemon.\n",
    "\n",
    "Pokemon also have a few attributes. \n",
    "* The main one to worry about is *hit points* or HP. Once your pokemon runs out of HP, they faint and can no longer fight.\n",
    "* The next most important attributes are the *level*, which reflects how powerful a pokemon is, and *experience points* (XP), which represent how experienced your pokemon is. You gain XP by making other pokemon faint. Once a pokemon gains a certain amount of XP, your pyokemon gains a level.\n",
    "\n",
    "As a pokemon trainer, your goal is to capture or defeat wild pokemon."
   ]
  },
  {
   "cell_type": "markdown",
   "metadata": {},
   "source": [
    "OK But What Does All This Have To Do With Programming\n",
    "------\n",
    "\n",
    "I recently read an [article](http://pgbovine.net/two-cultures-of-computing.htm) by a comp-sci professor at the University of Rochester. He argues that one of the main stumbling blocks in introducing people who are already skilled computer users to programming was a 'cultural' difference between how users and programmers view software: in a nutshell, users view a piece of software as a tool, while programmers view a piece of software as the other partner in a conversation. In his view, this explains why so many programmers (myself included) prefer development environments that look like something from 1970. While I'm not sure I buy his thesis entirely (to call these two approaches to computing different cultures seems a little excessive), I think it's an interesting framework, and guided how I thought about this workshop.\n",
    "\n",
    "This notebook is meant to force you into a conversation with your computer. To play the game is to program in Python. Each pokemon is a piece of Python code (called an _object_), and you interact with the game world (limited as it is) using the python interpreter directly. Beyond some protections against things that might break the game entirely, there's nothing stopping you from making your pokemon amazingly strong, or inventing a new move for your pokemon, or even inventing your own pokemon."
   ]
  },
  {
   "cell_type": "markdown",
   "metadata": {},
   "source": [
    "Alright Great But I've Still Learned More About Pokemons Than Pythons So Far\n",
    "--------\n",
    "\n",
    "To get started, execute the cell immeditately below this one, by selecting it with your mouse and either clicking the \"play\" button in the toolbar at the top of the page, or by holding down the Shift key and hitting Enter."
   ]
  },
  {
   "cell_type": "code",
   "execution_count": 1,
   "metadata": {
    "collapsed": false
   },
   "outputs": [],
   "source": [
    "import pyokemans as pm\n",
    "from game import *"
   ]
  },
  {
   "cell_type": "markdown",
   "metadata": {},
   "source": [
    "This loads the code that contains the game into the notebook. In python, these are called _modules_; other languages may call them something like _libraries_ or _bundles_ or _crates_ or _packages_ but they all usually mean the same thing --  a chunk of code that belongs together and lives together under the same name.\n",
    "\n",
    "The first line `import`s a module called `pyokemans`, and lets us refer to functions, objects, and other values defined by it using the shorthand `pm`. The second line imports everything from the `game` module into the notebook without any sort of prefix required. (In practice, this is usually a bad habit -- having lots of `from whatever import *` in your code can lead to confusion and potential bugs. But we're probably good here.)\n",
    "\n",
    "Now, the `pyokemans` module contains the definition for what a Trainer is -- a thing that has a name and some pokemon. Let's make a new player by going through the brief interview process. Execute the cell below, and answer the questions it asks."
   ]
  },
  {
   "cell_type": "code",
   "execution_count": 2,
   "metadata": {
    "collapsed": false,
    "scrolled": true
   },
   "outputs": [
    {
     "name": "stdout",
     "output_type": "stream",
     "text": [
      "What is your name?> ryan\n",
      "--------------------------------------------------------------------------------\n",
      "\n",
      "Hello there ryan! Welcome to Pyokemon: The Text Adventure!\n",
      "It's dangerous to go alone! Choose a starter pyokemon.\n",
      "Your choices are:\n",
      " \t1) Charmander, a Fire-type pyokemon\n",
      " \t2) Squirtle, a Water-type pyokemon\n",
      " \t3) Bulbasaur, a Grass-type pyokemon\n",
      "\n",
      "Type the number for your choice> 1\n",
      "What would you like to name your Charmander?> burnie sanders\n",
      "You're all set. Now go on out there and catch some pyokemon.\n"
     ]
    }
   ],
   "source": [
    "me = pm.Trainer.interview()"
   ]
  },
  {
   "cell_type": "markdown",
   "metadata": {},
   "source": [
    "Notice the equals sign. In Python, one equals sign does not mean _equivalence_ like in a math equation, but _assignment_. We are saying \"whatever we get from running `pm.Trainer.interview()`, call it `me`\". This is an important distinction, because this:\n",
    "\n",
    "    march = 5\n",
    "    \n",
    "sets `march` to 5, while this:\n",
    "\n",
    "    march == 5\n",
    "    \n",
    "does something entirely different: it tests whether `march` is equal to 5, and evaluates to either `True` or `False`. \n",
    "\n",
    "Programming languages are all picky. Python is more relaxed than most, but you still need to say precisely what you mean in order to get the behavior you're expecting. (For me at least, the fun bit of programming is _figuring out_ exactly what I mean.)\n",
    "\n",
    "Now that we have a trainer, let's explore a little bit. The next cell should print out the name you gave in the cell above."
   ]
  },
  {
   "cell_type": "code",
   "execution_count": 3,
   "metadata": {
    "collapsed": false
   },
   "outputs": [
    {
     "name": "stdout",
     "output_type": "stream",
     "text": [
      "ryan\n"
     ]
    }
   ],
   "source": [
    "print(me.name)"
   ]
  },
  {
   "cell_type": "markdown",
   "metadata": {},
   "source": [
    "MAGIC.\n",
    "\n",
    "Let's try and fight a wild pokemon!"
   ]
  },
  {
   "cell_type": "code",
   "execution_count": 4,
   "metadata": {
    "collapsed": false
   },
   "outputs": [
    {
     "name": "stdout",
     "output_type": "stream",
     "text": [
      "A wild Diglett appeared!\n",
      "Go, burnie sanders!\n",
      "\n",
      "Run, fight, capture, switch, or status?\n",
      "> fight\n",
      "Choose a move!\n",
      "\t1) Tackle: type Normal, power 10, remaining move points: 20\n",
      "\t2) Ember: type Fire, power 10, remaining move points: 10\n",
      "Enter number of move, or 'list' to see your choices> 2\n",
      "\n",
      "burnie sanders used Ember!\n"
     ]
    },
    {
     "ename": "ValueError",
     "evalue": "non-integer arg 1 for randrange()",
     "output_type": "error",
     "traceback": [
      "\u001b[1;31m---------------------------------------------------------------------------\u001b[0m",
      "\u001b[1;31mValueError\u001b[0m                                Traceback (most recent call last)",
      "\u001b[1;32m<ipython-input-4-dd4462ce9d32>\u001b[0m in \u001b[0;36m<module>\u001b[1;34m()\u001b[0m\n\u001b[1;32m----> 1\u001b[1;33m \u001b[0mwild_battle\u001b[0m\u001b[1;33m(\u001b[0m\u001b[0mme\u001b[0m\u001b[1;33m)\u001b[0m\u001b[1;33m\u001b[0m\u001b[0m\n\u001b[0m",
      "\u001b[1;32m/home/sabo/Code/Python/PYOKEMANS/pyokemans/game.py\u001b[0m in \u001b[0;36mwild_battle\u001b[1;34m(trainer)\u001b[0m\n\u001b[0;32m    264\u001b[0m             \u001b[0mmove\u001b[0m \u001b[1;33m=\u001b[0m \u001b[0mchoose_move\u001b[0m\u001b[1;33m(\u001b[0m\u001b[0mvalid_moves\u001b[0m\u001b[1;33m)\u001b[0m\u001b[1;33m\u001b[0m\u001b[0m\n\u001b[0;32m    265\u001b[0m \u001b[1;33m\u001b[0m\u001b[0m\n\u001b[1;32m--> 266\u001b[1;33m             \u001b[0mfainter\u001b[0m \u001b[1;33m=\u001b[0m \u001b[0mfight_round\u001b[0m\u001b[1;33m(\u001b[0m\u001b[0mtrainer_pkmn\u001b[0m\u001b[1;33m,\u001b[0m \u001b[0mwild_pkmn\u001b[0m\u001b[1;33m,\u001b[0m \u001b[0mp1move\u001b[0m\u001b[1;33m=\u001b[0m\u001b[0mmove\u001b[0m\u001b[1;33m)\u001b[0m\u001b[1;33m\u001b[0m\u001b[0m\n\u001b[0m\u001b[0;32m    267\u001b[0m             \u001b[1;32mif\u001b[0m \u001b[0mfainter\u001b[0m\u001b[1;33m:\u001b[0m\u001b[1;33m\u001b[0m\u001b[0m\n\u001b[0;32m    268\u001b[0m                 \u001b[0mprint\u001b[0m\u001b[1;33m(\u001b[0m\u001b[1;34m\"{} fainted!\"\u001b[0m\u001b[1;33m.\u001b[0m\u001b[0mformat\u001b[0m\u001b[1;33m(\u001b[0m\u001b[0mfainter\u001b[0m\u001b[1;33m.\u001b[0m\u001b[0mname\u001b[0m\u001b[1;33m)\u001b[0m\u001b[1;33m)\u001b[0m\u001b[1;33m\u001b[0m\u001b[0m\n",
      "\u001b[1;32m/home/sabo/Code/Python/PYOKEMANS/pyokemans/game.py\u001b[0m in \u001b[0;36mfight_round\u001b[1;34m(p1, p2, p1move, p2move)\u001b[0m\n\u001b[0;32m     95\u001b[0m         \u001b[1;31m# Recall that strategy_attack returns True if the defender faints.\u001b[0m\u001b[1;33m\u001b[0m\u001b[1;33m\u001b[0m\u001b[0m\n\u001b[0;32m     96\u001b[0m         \u001b[1;31m# We return the object of the defender if they do faint.\u001b[0m\u001b[1;33m\u001b[0m\u001b[1;33m\u001b[0m\u001b[0m\n\u001b[1;32m---> 97\u001b[1;33m         \u001b[1;32mif\u001b[0m \u001b[0mstrategy_attack\u001b[0m\u001b[1;33m(\u001b[0m\u001b[0mp1\u001b[0m\u001b[1;33m,\u001b[0m \u001b[0mp2\u001b[0m\u001b[1;33m,\u001b[0m \u001b[0mmove\u001b[0m\u001b[1;33m=\u001b[0m\u001b[0mp1move\u001b[0m\u001b[1;33m)\u001b[0m\u001b[1;33m:\u001b[0m\u001b[1;33m\u001b[0m\u001b[0m\n\u001b[0m\u001b[0;32m     98\u001b[0m             \u001b[1;32mreturn\u001b[0m \u001b[0mp2\u001b[0m\u001b[1;33m\u001b[0m\u001b[0m\n\u001b[0;32m     99\u001b[0m         \u001b[1;32mif\u001b[0m \u001b[0mstrategy_attack\u001b[0m\u001b[1;33m(\u001b[0m\u001b[0mp2\u001b[0m\u001b[1;33m,\u001b[0m \u001b[0mp1\u001b[0m\u001b[1;33m,\u001b[0m \u001b[0mmove\u001b[0m\u001b[1;33m=\u001b[0m\u001b[0mp2move\u001b[0m\u001b[1;33m)\u001b[0m\u001b[1;33m:\u001b[0m\u001b[1;33m\u001b[0m\u001b[0m\n",
      "\u001b[1;32m/home/sabo/Code/Python/PYOKEMANS/pyokemans/game.py\u001b[0m in \u001b[0;36mstrategy_attack\u001b[1;34m(attacker, defender, move)\u001b[0m\n\u001b[0;32m     59\u001b[0m     \u001b[1;31m# divided by the defender's defense score.\u001b[0m\u001b[1;33m\u001b[0m\u001b[1;33m\u001b[0m\u001b[0m\n\u001b[0;32m     60\u001b[0m     damage = ceil(\n\u001b[1;32m---> 61\u001b[1;33m             \u001b[1;33m(\u001b[0m\u001b[0mrandom\u001b[0m\u001b[1;33m.\u001b[0m\u001b[0mrandint\u001b[0m\u001b[1;33m(\u001b[0m\u001b[1;33m(\u001b[0m\u001b[0mattacker\u001b[0m\u001b[1;33m.\u001b[0m\u001b[0mattack\u001b[0m\u001b[1;33m/\u001b[0m\u001b[1;36m2\u001b[0m\u001b[1;33m)\u001b[0m\u001b[1;33m,\u001b[0m \u001b[0mattacker\u001b[0m\u001b[1;33m.\u001b[0m\u001b[0mattack\u001b[0m\u001b[1;33m)\u001b[0m \u001b[1;33m+\u001b[0m \u001b[0mmove\u001b[0m\u001b[1;33m.\u001b[0m\u001b[0mpower\u001b[0m\u001b[1;33m)\u001b[0m \u001b[1;33m*\u001b[0m\u001b[1;33m\u001b[0m\u001b[0m\n\u001b[0m\u001b[0;32m     62\u001b[0m             \u001b[1;33m(\u001b[0m\u001b[0mdamage_multiplier\u001b[0m \u001b[1;33m/\u001b[0m \u001b[0mdefender\u001b[0m\u001b[1;33m.\u001b[0m\u001b[0mdefense\u001b[0m\u001b[1;33m)\u001b[0m\u001b[1;33m\u001b[0m\u001b[0m\n\u001b[0;32m     63\u001b[0m             )\n",
      "\u001b[1;32m/home/sabo/Code/Python/PYOKEMANS/lib/python3.5/random.py\u001b[0m in \u001b[0;36mrandint\u001b[1;34m(self, a, b)\u001b[0m\n\u001b[0;32m    216\u001b[0m         \"\"\"\n\u001b[0;32m    217\u001b[0m \u001b[1;33m\u001b[0m\u001b[0m\n\u001b[1;32m--> 218\u001b[1;33m         \u001b[1;32mreturn\u001b[0m \u001b[0mself\u001b[0m\u001b[1;33m.\u001b[0m\u001b[0mrandrange\u001b[0m\u001b[1;33m(\u001b[0m\u001b[0ma\u001b[0m\u001b[1;33m,\u001b[0m \u001b[0mb\u001b[0m\u001b[1;33m+\u001b[0m\u001b[1;36m1\u001b[0m\u001b[1;33m)\u001b[0m\u001b[1;33m\u001b[0m\u001b[0m\n\u001b[0m\u001b[0;32m    219\u001b[0m \u001b[1;33m\u001b[0m\u001b[0m\n\u001b[0;32m    220\u001b[0m     def _randbelow(self, n, int=int, maxsize=1<<BPF, type=type,\n",
      "\u001b[1;32m/home/sabo/Code/Python/PYOKEMANS/lib/python3.5/random.py\u001b[0m in \u001b[0;36mrandrange\u001b[1;34m(self, start, stop, step, _int)\u001b[0m\n\u001b[0;32m    180\u001b[0m         \u001b[0mistart\u001b[0m \u001b[1;33m=\u001b[0m \u001b[0m_int\u001b[0m\u001b[1;33m(\u001b[0m\u001b[0mstart\u001b[0m\u001b[1;33m)\u001b[0m\u001b[1;33m\u001b[0m\u001b[0m\n\u001b[0;32m    181\u001b[0m         \u001b[1;32mif\u001b[0m \u001b[0mistart\u001b[0m \u001b[1;33m!=\u001b[0m \u001b[0mstart\u001b[0m\u001b[1;33m:\u001b[0m\u001b[1;33m\u001b[0m\u001b[0m\n\u001b[1;32m--> 182\u001b[1;33m             \u001b[1;32mraise\u001b[0m \u001b[0mValueError\u001b[0m\u001b[1;33m(\u001b[0m\u001b[1;34m\"non-integer arg 1 for randrange()\"\u001b[0m\u001b[1;33m)\u001b[0m\u001b[1;33m\u001b[0m\u001b[0m\n\u001b[0m\u001b[0;32m    183\u001b[0m         \u001b[1;32mif\u001b[0m \u001b[0mstop\u001b[0m \u001b[1;32mis\u001b[0m \u001b[1;32mNone\u001b[0m\u001b[1;33m:\u001b[0m\u001b[1;33m\u001b[0m\u001b[0m\n\u001b[0;32m    184\u001b[0m             \u001b[1;32mif\u001b[0m \u001b[0mistart\u001b[0m \u001b[1;33m>\u001b[0m \u001b[1;36m0\u001b[0m\u001b[1;33m:\u001b[0m\u001b[1;33m\u001b[0m\u001b[0m\n",
      "\u001b[1;31mValueError\u001b[0m: non-integer arg 1 for randrange()"
     ]
    }
   ],
   "source": [
    "wild_battle(me)"
   ]
  },
  {
   "cell_type": "code",
   "execution_count": null,
   "metadata": {
    "collapsed": true
   },
   "outputs": [],
   "source": [
    "pyo"
   ]
  }
 ],
 "metadata": {
  "kernelspec": {
   "display_name": "Python 3",
   "language": "python",
   "name": "python3"
  },
  "language_info": {
   "codemirror_mode": {
    "name": "ipython",
    "version": 3
   },
   "file_extension": ".py",
   "mimetype": "text/x-python",
   "name": "python",
   "nbconvert_exporter": "python",
   "pygments_lexer": "ipython3",
   "version": "3.5.1+"
  }
 },
 "nbformat": 4,
 "nbformat_minor": 0
}

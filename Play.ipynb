{
 "cells": [
  {
   "cell_type": "markdown",
   "metadata": {},
   "source": [
    "Introducing yourself to Python with Pokemon: The Text Adventure\n",
    "==================\n",
    "(Or, learning a programming language in 2016 using a '90s game, '80s style.)\n",
    "-----------\n",
    "\n",
    "Given the varied levels of experience that I'm imagining folks have, this example was designed to be helpful to people at a variety of experience and comfort levels.\n",
    "\n",
    "1. If you're completely new to programming, just the contents of this notebook should give you plenty to chew on.\n",
    "2. If you're somewhat familiar with the basics of Python or another language, but want to dig a little deeper, check out the game.py file. This is where most of the game logic is kept, broken down into _functions_ that perform one task. Taken together, they comprise the rules and logic, such as they are, of the game.\n",
    "3. If the words \"object-oriented programming\" look vaguely familiar, or you already know another programming language, take a peek at the pyokemans.py file. It contains the classes that undergird the game, and documents some useful tricks and potential pitfalls of working with classes in Python.\n",
    "4. If you are starting to feel like you made a huge mistake in coming to this workshop, no worries. Just play the game and occasionally nod knowingly as I'm talking. I don't mind."
   ]
  },
  {
   "cell_type": "markdown",
   "metadata": {},
   "source": [
    "Pokemon: A brief overview for people over the age of 28\n",
    "---------------\n",
    "Pokemon is a video game first released in 1996. It's fun. You catch little critters and make them fight until they pass out.\n",
    "\n",
    "Each pokemon has a type, and each pokemon knows some moves, which also have a type. Some moves are more effective against certain types of pokemon, and some are less. In this version, we limit ourselves to 6 types of pokemon and 7 types of move (the extra move type is \"Normal\", which affects each type of pokemon the same).\n",
    "\n",
    "![type relationships](typegraph.png)\n",
    "\n",
    "In the above graph, an arrow from type A to type B means that a _move_ of type A is very effective against a _pokemon_ of type B, and conversely, a _move_ of type B is ineffective against a _pokemon_ of type A.\n",
    "\n",
    "For example, water attacks are very effective against fire pokemon. Fire attacks are not very effective against water pokemon, but they are effective against grass pokemon.\n",
    "\n",
    "Pokemon also have a few attributes. \n",
    "* The main one to worry about is *hit points* or HP. Once your pokemon runs out of HP, they faint and can no longer fight.\n",
    "* The next most important attributes are the *level*, which reflects how powerful a pokemon is, and *experience points* (XP), which represent how experienced your pokemon is. You gain XP by making other pokemon faint. Once a pokemon gains a certain amount of XP, your pyokemon gains a level.\n",
    "\n",
    "As a pokemon trainer, your goal is to capture or defeat wild pokemon."
   ]
  },
  {
   "cell_type": "markdown",
   "metadata": {},
   "source": [
    "OK But What Does All This Have To Do With Programming\n",
    "------\n",
    "\n",
    "I recently read an [article](http://pgbovine.net/two-cultures-of-computing.htm) by a comp-sci professor at the University of Rochester. He argues that one of the main stumbling blocks in introducing people who are already skilled computer users to programming was a 'cultural' difference between how users and programmers view software: in a nutshell, users view a piece of software as a tool, while programmers view a piece of software as the other partner in a conversation. In his view, this explains why so many programmers (myself included) prefer development environments that look like something from 1970. While I'm not sure I buy his thesis entirely (to call these two approaches to computing different cultures seems a little excessive), I think it's an interesting framework, and guided how I thought about this workshop.\n",
    "\n",
    "This notebook is meant to force you into a conversation with your computer. To play the game is to program in Python. Each pokemon is a piece of Python code (called an _object_), and you interact with the game world (limited as it is) using the python interpreter directly. Beyond some protections against things that might break the game entirely, there's nothing stopping you from making your pokemon amazingly strong, or inventing a new move for your pokemon, or even inventing your own pokemon."
   ]
  },
  {
   "cell_type": "markdown",
   "metadata": {},
   "source": [
    "Alright Great But I've Still Learned More About Pokemons Than Pythons So Far\n",
    "--------\n",
    "\n",
    "To get started, execute the cell immeditately below this one, by selecting it with your mouse and either clicking the \"play\" button in the toolbar at the top of the page, or by holding down the Shift key and hitting Enter."
   ]
  },
  {
   "cell_type": "code",
   "execution_count": null,
   "metadata": {
    "collapsed": false
   },
   "outputs": [],
   "source": [
    "import pyokemans as pm\n",
    "from game import *"
   ]
  },
  {
   "cell_type": "markdown",
   "metadata": {},
   "source": [
    "This loads the code that contains the game into the notebook. In python, these are called _modules_; other languages may call them something like _libraries_ or _bundles_ or _crates_ or _packages_ but they all usually mean the same thing --  code that belongs together, works together, and lives together under the same name.\n",
    "\n",
    "The first line `import`s a module called `pyokemans`, and lets us refer to functions, objects, and other values defined by it using the shorthand `pm`. The second line imports everything from the `game` module into the notebook without any sort of prefix required. (In practice, this is usually a bad habit -- having lots of `from whatever import *` in your code can lead to confusion and potential bugs. But we're probably good here.)\n",
    "\n",
    "Now, the `pyokemans` module contains the definition for what a Trainer is -- that is, a thing that has a name and some pokemon. Well, you're a thing that has a name and (presumably) wants some pokemon! Let's make a new player by going through the brief interview process. Execute the cell below, and answer the questions it asks."
   ]
  },
  {
   "cell_type": "code",
   "execution_count": null,
   "metadata": {
    "collapsed": false,
    "scrolled": true
   },
   "outputs": [],
   "source": [
    "me = pm.Trainer.interview()"
   ]
  },
  {
   "cell_type": "markdown",
   "metadata": {},
   "source": [
    "Notice the equals sign. In Python, one equals sign does not mean _equivalence_ like in a math equation, but _assignment_. We are saying \"whatever we get from running `pm.Trainer.interview()`, call it `me`\". These are called _variables_ (just like in algebra).\n",
    "\n",
    "It's important to understand the implications of that, because this \n",
    "\n",
    "    march = 5\n",
    "    \n",
    "sets `march` to 5. Whereas this:\n",
    "\n",
    "    march == 5\n",
    "    \n",
    "does something entirely different. It takes whatever `march` is referring to, tests if it is equal to 5, and returns either `True` or `False`. \n",
    "\n",
    "Programming languages are all picky. Python is more relaxed than most, but you still need to say precisely what you mean in order to get the behavior you're expecting. (For me at least, the fun bit of programming is _figuring out_ exactly what I mean.)\n",
    "\n",
    "Now that we have a trainer, let's explore a little bit. The next cell should print out the name you gave in the cell above."
   ]
  },
  {
   "cell_type": "code",
   "execution_count": null,
   "metadata": {
    "collapsed": false
   },
   "outputs": [],
   "source": [
    "print(me.name)"
   ]
  },
  {
   "cell_type": "markdown",
   "metadata": {},
   "source": [
    "MAGIC.\n",
    "\n",
    "Let's try and fight a wild pokemon! Execute the next cell, and play along."
   ]
  },
  {
   "cell_type": "code",
   "execution_count": null,
   "metadata": {
    "collapsed": false
   },
   "outputs": [],
   "source": [
    "wild_battle(me)"
   ]
  },
  {
   "cell_type": "markdown",
   "metadata": {},
   "source": [
    "Thrilling.\n",
    "\n",
    "`wild_battle` is an example of a _function_, also known as a _subroutine_. Functions are a way of grouping together and compartmentalizing bits of code that (usualy) perform one specific conceptual task. You might write a function to calculate the area of a circle based on its radius, or to post a tweet to Twitter, or to erase your hard drive.\n",
    "\n",
    "Functions can take _inputs_ (also called _arguments_ for reasons I've never really wanted to fathom). You specify the inputs to a function by writing parenthesis around the input values and sticking them next to the function name, as in the above example In the above example, `wild_battle` needs a Trainer for its input for the wild pokemon to battle. Try running the cell below, which just calls `wild_battle` without any inputs."
   ]
  },
  {
   "cell_type": "code",
   "execution_count": null,
   "metadata": {
    "collapsed": false
   },
   "outputs": [],
   "source": [
    "wild_battle()"
   ]
  },
  {
   "cell_type": "markdown",
   "metadata": {},
   "source": [
    "Apparently `wild_battle` doesn't like it. It says it needs 'one required positional argument'.\n",
    "\n",
    "What happens if we give `wild_battle` an input, but one that it's not expecting? Not a Trainer, say, but a number. \n",
    "\n",
    "5 is a good strong number. Let's put the number 5 up against a wild pokemon."
   ]
  },
  {
   "cell_type": "code",
   "execution_count": null,
   "metadata": {
    "collapsed": false
   },
   "outputs": [],
   "source": [
    "wild_battle(5)"
   ]
  },
  {
   "cell_type": "markdown",
   "metadata": {},
   "source": [
    "Huh. We actually saw a wild pokemon before our game barfed on us. `wild_battle` actually did something before quitting! \n",
    "\n",
    "Let's take a deeper look at what our conversation partner is trying to tell us. Here's the error I saw when writing this notebook:\n",
    "\n",
    "    /home/sabo/Code/Python/PYOKEMANS/pyokemans/game.py in wild_battle(trainer)\n",
    "        212 \n",
    "        213     print(\"A wild {} appeared!\".format(wild_pkmn.name))\n",
    "    --> 214     roster = [pkmn for pkmn in trainer.roster if pkmn.hp > 0]\n",
    "        215 \n",
    "        216     try:\n",
    "        \n",
    "    AttributeError: 'int' object has no attribute 'roster'\n",
    "    \n",
    "So it took 5 to be the trainer, then tried to access the number 5's roster of pokemon. \n",
    "\n",
    "...But 5 does not have a roster of pokemon, or anything that functions like a roster of pokemon. \n",
    "\n",
    "It is a number, and _numbers are not capabale of raising or fighting pokemon_.\n",
    "\n",
    "This illustrates one vitally important aspect of Python's design. In programming language parlance, Python is _duck typed_, so called (honestly I swear this is true) based on the adage \"if it walks like a duck, and it quacks like a duck, then it is a duck\". \n",
    "\n",
    "Now, by \"type\" here, I mean something a little different than Pokemon types. Types are basically categories of things that a program can work with. Here are some examples of types.\n",
    "\n",
    "|type | example|\n",
    "|---|---|\n",
    "|Integer | `5` |\n",
    "|Character|`'c'`|\n",
    "|String|`'hello world'`|\n",
    "|Boolean|`True`|\n",
    "|Floating point number | `5.0`|\n",
    "|`Trainer`| you|\n",
    "\n",
    "Some other programming languages, like C, Java, and Go, are _statically typed_. They require the programmer to declare the type of every varible, input, and output as they write their code. If things don't match up type-wise when you try to compile your code into an executable program -- if you try to take the square root of \"Hello there!\" or get the pokemon roster belonging to the Platonic idea of 5 -- the compiler will refuse to even build the program. Python is different. Python just assumes you know what you're doing, and doesn't check types until it's juuuuuuust about to do what you're asking it to do. \n",
    "\n",
    "This has its upsides and downsides. The upside is, it can make your code nice and compact in cases where type doesn't matter. The downside is that it makes it harder to reason with confidence about what your program does. Ultimately, what you prefer is your choice.\n"
   ]
  },
  {
   "cell_type": "code",
   "execution_count": null,
   "metadata": {
    "collapsed": false
   },
   "outputs": [],
   "source": [
    "pyokemon_center(me)"
   ]
  },
  {
   "cell_type": "code",
   "execution_count": null,
   "metadata": {
    "collapsed": true
   },
   "outputs": [],
   "source": []
  }
 ],
 "metadata": {
  "kernelspec": {
   "display_name": "Python 3",
   "language": "python",
   "name": "python3"
  },
  "language_info": {
   "codemirror_mode": {
    "name": "ipython",
    "version": 3
   },
   "file_extension": ".py",
   "mimetype": "text/x-python",
   "name": "python",
   "nbconvert_exporter": "python",
   "pygments_lexer": "ipython3",
   "version": "3.5.1+"
  }
 },
 "nbformat": 4,
 "nbformat_minor": 0
}
